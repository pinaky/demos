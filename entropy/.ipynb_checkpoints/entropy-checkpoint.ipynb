{
 "cells": [
  {
   "cell_type": "markdown",
   "metadata": {},
   "source": [
    "# Monte Carlo Entropy Estimates\n",
    "\n",
    "For a random variable, $X$, distributed according to the density $p_X(x)$, abbreviated as $p(x)$, the differential entropy is defined to be:\n",
    "$$H(X) = - \\int p(x) \\log p(x) dx$$\n",
    "\n",
    "This, in turn, can be estimated using samples $x^{(k)} \\sim p(x)$  as:\n",
    "$$\\hat{H}(X) \\approx -\\dfrac{1}{N} \\sum_{k=1}^{N} \\log p \\left(x^{(k)} \\right)$$\n",
    "\n",
    "We'd like to see how good this estimate is for different types of distributions."
   ]
  },
  {
   "cell_type": "code",
   "execution_count": 1,
   "metadata": {
    "collapsed": false
   },
   "outputs": [
    {
     "name": "stdout",
     "output_type": "stream",
     "text": [
      "Populating the interactive namespace from numpy and matplotlib\n"
     ]
    }
   ],
   "source": [
    "%pylab inline"
   ]
  },
  {
   "cell_type": "markdown",
   "metadata": {},
   "source": [
    "## 1. Uniform distribution on an interval $U[a, b]$\n",
    "\n",
    "We expect the entropy, in this case, to be $H(U) = \\log(b - a)$.\n",
    "\n",
    "The following code evaluates the mean and spread of the entropy estimate for an increasing number of samples."
   ]
  },
  {
   "cell_type": "code",
   "execution_count": 2,
   "metadata": {
    "collapsed": false,
    "scrolled": false
   },
   "outputs": [
    {
     "data": {
      "text/plain": [
       "<matplotlib.legend.Legend at 0x26ddbc51470>"
      ]
     },
     "execution_count": 2,
     "metadata": {},
     "output_type": "execute_result"
    },
    {
     "data": {
      "image/png": "[encoded data removed]",
      "text/plain": [
       "<matplotlib.figure.Figure at 0x26dda451ba8>"
      ]
     },
     "metadata": {},
     "output_type": "display_data"
    }
   ],
   "source": [
    "# This code gives insight into the statistical properties of a standard Monte Carlo estimate\n",
    "# for the entropy of a uniform random variable on an interval.\n",
    "\n",
    "from scipy.stats import uniform\n",
    "\n",
    "a = 0.0     # Lower limit of the interval of definition\n",
    "b = 10.0    # Upper limit of the interval of definition\n",
    "\n",
    "M = 1000 # The number of entropy estimates for each value of N\n",
    "\n",
    "erange = range(1, 6)  # The range of exponents corresponding to the number of samples used for the estimate\n",
    "L = len(erange)       # Size of the array of exponents\n",
    "entropyEstimateMean = zeros(L)     # Empty array for estimates for each N\n",
    "entropyEstimateStdv = zeros(L)     # Empty array for estimate errors for each N\n",
    "entropyActual = [log(b - a)] * L   # Actual entropy for comparison plot\n",
    "\n",
    "for c in range(L):\n",
    "    exponent = erange[c]\n",
    "    N = 10 ** exponent\n",
    "    for m in range(M):\n",
    "        x = a + (b - a) * rand(N, 1)\n",
    "        s = sum(-uniform.logpdf(x, loc=a, scale=b-a)) / N\n",
    "        entropyEstimateMean[c] += s\n",
    "        entropyEstimateStdv[c] += s ** 2\n",
    "    entropyEstimateMean[c] /= M\n",
    "    entropyEstimateStdv[c] = sqrt(abs(entropyEstimateStdv[c] / M - entropyEstimateMean[c] ** 2))\n",
    "\n",
    "# Begin plotting results\n",
    "errorbar(erange, entropyEstimateMean, yerr=entropyEstimateStdv, label=\"Estimate\")\n",
    "plot(erange, entropyActual, 'r--', label=\"Actual\")\n",
    "ylim((0.0, 5.0))\n",
    "title('Entropy estimate versus number of samples')\n",
    "xlabel('Number of samples in log 10 scale')\n",
    "ylabel('Entropy')\n",
    "legend()"
   ]
  },
  {
   "cell_type": "markdown",
   "metadata": {},
   "source": [
    "## 2. Normal distribution $X \\sim \\mathcal{N}(\\cdot|\\mu,\\sigma)$\n",
    "\n",
    "We expect the entropy, in this case, to be $H(X) = \\dfrac{1}{2}\\log(2\\pi e \\sigma^2)$.\n",
    "\n",
    "The following code evaluates the mean and spread of the entropy estimate for an increasing number of samples."
   ]
  },
  {
   "cell_type": "code",
   "execution_count": 3,
   "metadata": {
    "collapsed": false
   },
   "outputs": [
    {
     "data": {
      "text/plain": [
       "<matplotlib.legend.Legend at 0x26ddc069278>"
      ]
     },
     "execution_count": 3,
     "metadata": {},
     "output_type": "execute_result"
    },
    {
     "data": {
      "image/png": "[encoded data removed]",
      "text/plain": [
       "<matplotlib.figure.Figure at 0x26ddbc67828>"
      ]
     },
     "metadata": {},
     "output_type": "display_data"
    }
   ],
   "source": [
    "# This code gives insight into the statistical properties of a standard Monte Carlo estimate\n",
    "# for the entropy of a normal random variable on an interval.\n",
    "\n",
    "from scipy.stats import norm\n",
    "\n",
    "rv_mean = 0.0     # Mean of the normal density \n",
    "rv_stdv = 1.0     # Standard deviation of the normal density\n",
    "\n",
    "M = 1000 # The number of entropy estimates for each value of N\n",
    "\n",
    "erange = range(1, 6)  # The range of exponents corresponding to the number of samples used for the estimate\n",
    "L = len(erange)       # Size of the array of exponents\n",
    "entropyEstimateMean = zeros(L)     # Empty array for estimates for each N\n",
    "entropyEstimateStdv = zeros(L)     # Empty array for estimate errors for each N\n",
    "entropyActual = [0.5*log(2*pi*exp(1)*rv_stdv ** 2)] * L   # Actual entropy for comparison plot\n",
    "\n",
    "for c in range(L):\n",
    "    exponent = erange[c]\n",
    "    N = 10 ** exponent\n",
    "    for m in range(M):\n",
    "        x = rv_mean + rv_stdv * randn(N, 1)\n",
    "        s = sum(-norm.logpdf(x, loc=rv_mean, scale=rv_stdv)) / N\n",
    "        entropyEstimateMean[c] += s\n",
    "        entropyEstimateStdv[c] += s ** 2\n",
    "    entropyEstimateMean[c] /= M\n",
    "    entropyEstimateStdv[c] = sqrt(abs(entropyEstimateStdv[c] / M - entropyEstimateMean[c] ** 2))\n",
    "\n",
    "# Begin plotting results\n",
    "errorbar(erange, entropyEstimateMean, yerr=entropyEstimateStdv, label=\"Estimate\")\n",
    "plot(erange, entropyActual, 'r--', label=\"Actual\")\n",
    "xlim((0.85, erange[-1]))\n",
    "title('Entropy estimate versus number of samples')\n",
    "xlabel('Number of samples in log 10 scale')\n",
    "ylabel('Entropy')\n",
    "legend()"
   ]
  }
 ],
 "metadata": {
  "kernelspec": {
   "display_name": "Python 3",
   "language": "python",
   "name": "python3"
  },
  "language_info": {
   "codemirror_mode": {
    "name": "ipython",
    "version": 3
   },
   "file_extension": ".py",
   "mimetype": "text/x-python",
   "name": "python",
   "nbconvert_exporter": "python",
   "pygments_lexer": "ipython3",
   "version": "3.5.1"
  }
 },
 "nbformat": 4,
 "nbformat_minor": 0
}
